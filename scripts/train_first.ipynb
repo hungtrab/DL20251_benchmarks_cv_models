{
 "cells": [
  {
   "cell_type": "code",
   "execution_count": null,
   "id": "38561274",
   "metadata": {},
   "outputs": [
    {
     "name": "stdout",
     "output_type": "stream",
     "text": [
      "Collecting gdown\n",
      "  Using cached gdown-5.2.0-py3-none-any.whl.metadata (5.8 kB)\n",
      "Collecting beautifulsoup4 (from gdown)\n",
      "  Using cached beautifulsoup4-4.14.2-py3-none-any.whl.metadata (3.8 kB)\n",
      "Requirement already satisfied: filelock in /home/hungchan/miniconda3/envs/archive_packages_312/lib/python3.12/site-packages (from gdown) (3.19.1)\n",
      "Requirement already satisfied: requests[socks] in /home/hungchan/miniconda3/envs/archive_packages_312/lib/python3.12/site-packages (from gdown) (2.32.5)\n",
      "Requirement already satisfied: tqdm in /home/hungchan/miniconda3/envs/archive_packages_312/lib/python3.12/site-packages (from gdown) (4.67.1)\n",
      "Collecting soupsieve>1.2 (from beautifulsoup4->gdown)\n",
      "  Using cached soupsieve-2.8-py3-none-any.whl.metadata (4.6 kB)\n",
      "Requirement already satisfied: typing-extensions>=4.0.0 in /home/hungchan/miniconda3/envs/archive_packages_312/lib/python3.12/site-packages (from beautifulsoup4->gdown) (4.15.0)\n",
      "Requirement already satisfied: charset_normalizer<4,>=2 in /home/hungchan/miniconda3/envs/archive_packages_312/lib/python3.12/site-packages (from requests[socks]->gdown) (3.4.3)\n",
      "Requirement already satisfied: idna<4,>=2.5 in /home/hungchan/miniconda3/envs/archive_packages_312/lib/python3.12/site-packages (from requests[socks]->gdown) (3.10)\n",
      "Requirement already satisfied: urllib3<3,>=1.21.1 in /home/hungchan/miniconda3/envs/archive_packages_312/lib/python3.12/site-packages (from requests[socks]->gdown) (2.5.0)\n",
      "Requirement already satisfied: certifi>=2017.4.17 in /home/hungchan/miniconda3/envs/archive_packages_312/lib/python3.12/site-packages (from requests[socks]->gdown) (2025.8.3)\n",
      "Collecting PySocks!=1.5.7,>=1.5.6 (from requests[socks]->gdown)\n",
      "  Downloading PySocks-1.7.1-py3-none-any.whl.metadata (13 kB)\n",
      "Using cached gdown-5.2.0-py3-none-any.whl (18 kB)\n",
      "Using cached beautifulsoup4-4.14.2-py3-none-any.whl (106 kB)\n",
      "Using cached soupsieve-2.8-py3-none-any.whl (36 kB)\n",
      "Downloading PySocks-1.7.1-py3-none-any.whl (16 kB)\n",
      "Installing collected packages: soupsieve, PySocks, beautifulsoup4, gdown\n",
      "\u001b[2K   \u001b[38;2;114;156;31m━━━━━━━━━━━━━━━━━━━━━━━━━━━━━━━━━━━━━━━━\u001b[0m \u001b[32m4/4\u001b[0m [gdown]\n",
      "\u001b[1A\u001b[2KSuccessfully installed PySocks-1.7.1 beautifulsoup4-4.14.2 gdown-5.2.0 soupsieve-2.8\n"
     ]
    },
    {
     "name": "stderr",
     "output_type": "stream",
     "text": [
      "Downloading...\n",
      "From (original): https://drive.google.com/uc?id=1asbLz9GcivwJmfRhBq7eI60LjJAayqMG\n",
      "From (redirected): https://drive.google.com/uc?id=1asbLz9GcivwJmfRhBq7eI60LjJAayqMG&confirm=t&uuid=18b7324c-80ca-4485-aedc-75ff550f5548\n",
      "To: /home/hungchan/Work/2025.1/DL20251/data1/intel.zip\n",
      "  1%|▏         | 4.72M/363M [00:25<40:04, 149kB/s] Traceback (most recent call last):\n",
      "  File \"/home/hungchan/miniconda3/envs/archive_packages_312/bin/gdown\", line 8, in <module>\n",
      "    sys.exit(main())\n",
      "             ^^^^^^\n",
      "  File \"/home/hungchan/miniconda3/envs/archive_packages_312/lib/python3.12/site-packages/gdown/__main__.py\", line 172, in main\n",
      "    download(\n",
      "  File \"/home/hungchan/miniconda3/envs/archive_packages_312/lib/python3.12/site-packages/gdown/download.py\", line 368, in download\n",
      "    for chunk in res.iter_content(chunk_size=CHUNK_SIZE):\n",
      "                 ^^^^^^^^^^^^^^^^^^^^^^^^^^^^^^^^^^^^^^^\n",
      "  File \"/home/hungchan/miniconda3/envs/archive_packages_312/lib/python3.12/site-packages/requests/models.py\", line 820, in generate\n",
      "    yield from self.raw.stream(chunk_size, decode_content=True)\n",
      "  File \"/home/hungchan/miniconda3/envs/archive_packages_312/lib/python3.12/site-packages/urllib3/response.py\", line 1091, in stream\n",
      "    data = self.read(amt=amt, decode_content=decode_content)\n",
      "           ^^^^^^^^^^^^^^^^^^^^^^^^^^^^^^^^^^^^^^^^^^^^^^^^^\n",
      "  File \"/home/hungchan/miniconda3/envs/archive_packages_312/lib/python3.12/site-packages/urllib3/response.py\", line 980, in read\n",
      "    data = self._raw_read(amt)\n",
      "           ^^^^^^^^^^^^^^^^^^^\n",
      "  File \"/home/hungchan/miniconda3/envs/archive_packages_312/lib/python3.12/site-packages/urllib3/response.py\", line 904, in _raw_read\n",
      "    data = self._fp_read(amt, read1=read1) if not fp_closed else b\"\"\n",
      "           ^^^^^^^^^^^^^^^^^^^^^^^^^^^^^^^\n",
      "  File \"/home/hungchan/miniconda3/envs/archive_packages_312/lib/python3.12/site-packages/urllib3/response.py\", line 887, in _fp_read\n",
      "    return self._fp.read(amt) if amt is not None else self._fp.read()\n",
      "           ^^^^^^^^^^^^^^^^^^\n",
      "  File \"/home/hungchan/miniconda3/envs/archive_packages_312/lib/python3.12/http/client.py\", line 479, in read\n",
      "    s = self.fp.read(amt)\n",
      "        ^^^^^^^^^^^^^^^^^\n",
      "  File \"/home/hungchan/miniconda3/envs/archive_packages_312/lib/python3.12/socket.py\", line 720, in readinto\n",
      "    return self._sock.recv_into(b)\n",
      "           ^^^^^^^^^^^^^^^^^^^^^^^\n",
      "  File \"/home/hungchan/miniconda3/envs/archive_packages_312/lib/python3.12/ssl.py\", line 1251, in recv_into\n",
      "    return self.read(nbytes, buffer)\n",
      "           ^^^^^^^^^^^^^^^^^^^^^^^^^\n",
      "  File \"/home/hungchan/miniconda3/envs/archive_packages_312/lib/python3.12/ssl.py\", line 1103, in read\n",
      "    return self._sslobj.read(len, buffer)\n",
      "           ^^^^^^^^^^^^^^^^^^^^^^^^^^^^^^\n",
      "KeyboardInterrupt\n",
      "  1%|▏         | 4.72M/363M [00:29<36:47, 162kB/s]\n"
     ]
    },
    {
     "name": "stdout",
     "output_type": "stream",
     "text": [
      "Process was interrupted.\n"
     ]
    },
    {
     "ename": "CalledProcessError",
     "evalue": "Command 'b'cd ..\\ncd data1\\npip install gdown\\ngdown https://drive.google.com/uc?id=1asbLz9GcivwJmfRhBq7eI60LjJAayqMG -O intel.zip\\n'' died with <Signals.SIGINT: 2>.",
     "output_type": "error",
     "traceback": [
      "\u001b[31m---------------------------------------------------------------------------\u001b[39m",
      "\u001b[31mCalledProcessError\u001b[39m                        Traceback (most recent call last)",
      "\u001b[36mCell\u001b[39m\u001b[36m \u001b[39m\u001b[32mIn[2]\u001b[39m\u001b[32m, line 1\u001b[39m\n\u001b[32m----> \u001b[39m\u001b[32m1\u001b[39m \u001b[43mget_ipython\u001b[49m\u001b[43m(\u001b[49m\u001b[43m)\u001b[49m\u001b[43m.\u001b[49m\u001b[43mrun_cell_magic\u001b[49m\u001b[43m(\u001b[49m\u001b[33;43m'\u001b[39;49m\u001b[33;43mbash\u001b[39;49m\u001b[33;43m'\u001b[39;49m\u001b[43m,\u001b[49m\u001b[43m \u001b[49m\u001b[33;43m'\u001b[39;49m\u001b[33;43m'\u001b[39;49m\u001b[43m,\u001b[49m\u001b[43m \u001b[49m\u001b[33;43m'\u001b[39;49m\u001b[33;43mcd ..\u001b[39;49m\u001b[38;5;130;43;01m\\n\u001b[39;49;00m\u001b[33;43mcd data1\u001b[39;49m\u001b[38;5;130;43;01m\\n\u001b[39;49;00m\u001b[33;43mpip install gdown\u001b[39;49m\u001b[38;5;130;43;01m\\n\u001b[39;49;00m\u001b[33;43mgdown https://drive.google.com/uc?id=1asbLz9GcivwJmfRhBq7eI60LjJAayqMG -O intel.zip\u001b[39;49m\u001b[38;5;130;43;01m\\n\u001b[39;49;00m\u001b[33;43m'\u001b[39;49m\u001b[43m)\u001b[49m\n",
      "\u001b[36mFile \u001b[39m\u001b[32m~/miniconda3/envs/archive_packages_312/lib/python3.12/site-packages/IPython/core/interactiveshell.py:2565\u001b[39m, in \u001b[36mInteractiveShell.run_cell_magic\u001b[39m\u001b[34m(self, magic_name, line, cell)\u001b[39m\n\u001b[32m   2563\u001b[39m \u001b[38;5;28;01mwith\u001b[39;00m \u001b[38;5;28mself\u001b[39m.builtin_trap:\n\u001b[32m   2564\u001b[39m     args = (magic_arg_s, cell)\n\u001b[32m-> \u001b[39m\u001b[32m2565\u001b[39m     result = \u001b[43mfn\u001b[49m\u001b[43m(\u001b[49m\u001b[43m*\u001b[49m\u001b[43margs\u001b[49m\u001b[43m,\u001b[49m\u001b[43m \u001b[49m\u001b[43m*\u001b[49m\u001b[43m*\u001b[49m\u001b[43mkwargs\u001b[49m\u001b[43m)\u001b[49m\n\u001b[32m   2567\u001b[39m \u001b[38;5;66;03m# The code below prevents the output from being displayed\u001b[39;00m\n\u001b[32m   2568\u001b[39m \u001b[38;5;66;03m# when using magics with decorator @output_can_be_silenced\u001b[39;00m\n\u001b[32m   2569\u001b[39m \u001b[38;5;66;03m# when the last Python token in the expression is a ';'.\u001b[39;00m\n\u001b[32m   2570\u001b[39m \u001b[38;5;28;01mif\u001b[39;00m \u001b[38;5;28mgetattr\u001b[39m(fn, magic.MAGIC_OUTPUT_CAN_BE_SILENCED, \u001b[38;5;28;01mFalse\u001b[39;00m):\n",
      "\u001b[36mFile \u001b[39m\u001b[32m~/miniconda3/envs/archive_packages_312/lib/python3.12/site-packages/IPython/core/magics/script.py:160\u001b[39m, in \u001b[36mScriptMagics._make_script_magic.<locals>.named_script_magic\u001b[39m\u001b[34m(line, cell)\u001b[39m\n\u001b[32m    158\u001b[39m \u001b[38;5;28;01melse\u001b[39;00m:\n\u001b[32m    159\u001b[39m     line = script\n\u001b[32m--> \u001b[39m\u001b[32m160\u001b[39m \u001b[38;5;28;01mreturn\u001b[39;00m \u001b[38;5;28;43mself\u001b[39;49m\u001b[43m.\u001b[49m\u001b[43mshebang\u001b[49m\u001b[43m(\u001b[49m\u001b[43mline\u001b[49m\u001b[43m,\u001b[49m\u001b[43m \u001b[49m\u001b[43mcell\u001b[49m\u001b[43m)\u001b[49m\n",
      "\u001b[36mFile \u001b[39m\u001b[32m~/miniconda3/envs/archive_packages_312/lib/python3.12/site-packages/IPython/core/magics/script.py:334\u001b[39m, in \u001b[36mScriptMagics.shebang\u001b[39m\u001b[34m(self, line, cell)\u001b[39m\n\u001b[32m    332\u001b[39m     \u001b[38;5;28mprint\u001b[39m(\u001b[33m\"\u001b[39m\u001b[33mError while terminating subprocess (pid=\u001b[39m\u001b[38;5;132;01m%i\u001b[39;00m\u001b[33m): \u001b[39m\u001b[38;5;132;01m%s\u001b[39;00m\u001b[33m\"\u001b[39m % (p.pid, e))\n\u001b[32m    333\u001b[39m \u001b[38;5;28;01mif\u001b[39;00m args.raise_error:\n\u001b[32m--> \u001b[39m\u001b[32m334\u001b[39m     \u001b[38;5;28;01mraise\u001b[39;00m CalledProcessError(p.returncode, cell) \u001b[38;5;28;01mfrom\u001b[39;00m\u001b[38;5;250m \u001b[39m\u001b[38;5;28;01mNone\u001b[39;00m\n\u001b[32m    335\u001b[39m \u001b[38;5;28;01melse\u001b[39;00m:\n\u001b[32m    336\u001b[39m     \u001b[38;5;28;01mreturn\u001b[39;00m\n",
      "\u001b[31mCalledProcessError\u001b[39m: Command 'b'cd ..\\ncd data1\\npip install gdown\\ngdown https://drive.google.com/uc?id=1asbLz9GcivwJmfRhBq7eI60LjJAayqMG -O intel.zip\\n'' died with <Signals.SIGINT: 2>."
     ]
    }
   ],
   "source": [
    "%%bash\n",
    "cd ..\n",
    "\n",
    "# Check if intel_image directory exists\n",
    "if [ ! -d \"data/intel\" ]; then\n",
    "    echo \"Intel dataset not found. Downloading...\"\n",
    "    \n",
    "    # Create data directory if it doesn't exist\n",
    "    mkdir -p data\n",
    "    \n",
    "    # Install gdown if not already installed\n",
    "    pip install -q gdown\n",
    "    \n",
    "    # Download the dataset\n",
    "    gdown https://drive.google.com/uc?id=1asbLz9GcivwJmfRhBq7eI60LjJAayqMG -O data/intel.zip\n",
    "    \n",
    "    # Unzip the dataset\n",
    "    echo \"Extracting dataset...\"\n",
    "    unzip -q data/intel.zip -d data/intel_image\n",
    "    \n",
    "    # Clean up zip file\n",
    "    rm data/intel.zip\n",
    "    \n",
    "    echo \"Dataset downloaded and extracted successfully!\"\n",
    "else\n",
    "    echo \"Intel directory already exists. Running training script...\"\n",
    "    # Run the training script\n",
    "fi\n",
    "\n",
    "python train.py --config config/"
   ]
  },
  {
   "cell_type": "code",
   "execution_count": null,
   "id": "7a6dcef1",
   "metadata": {},
   "outputs": [],
   "source": []
  }
 ],
 "metadata": {
  "kernelspec": {
   "display_name": "archive_packages_312",
   "language": "python",
   "name": "python3"
  },
  "language_info": {
   "codemirror_mode": {
    "name": "ipython",
    "version": 3
   },
   "file_extension": ".py",
   "mimetype": "text/x-python",
   "name": "python",
   "nbconvert_exporter": "python",
   "pygments_lexer": "ipython3",
   "version": "3.12.11"
  }
 },
 "nbformat": 4,
 "nbformat_minor": 5
}
